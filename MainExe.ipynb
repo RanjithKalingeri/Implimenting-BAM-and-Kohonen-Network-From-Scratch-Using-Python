{
  "nbformat": 4,
  "nbformat_minor": 0,
  "metadata": {
    "colab": {
      "name": "mit2020017_sc_assignment8",
      "provenance": [],
      "toc_visible": true
    },
    "kernelspec": {
      "name": "python3",
      "display_name": "Python 3"
    },
    "language_info": {
      "name": "python"
    }
  },
  "cells": [
    {
      "cell_type": "markdown",
      "metadata": {
        "id": "4-qSdcoP0P1y"
      },
      "source": [
        "#problem 1 - BAM implimentation from scratch"
      ]
    },
    {
      "cell_type": "markdown",
      "metadata": {
        "id": "q3rFKJWPotrt"
      },
      "source": [
        "##Collecting input output pairs "
      ]
    },
    {
      "cell_type": "code",
      "metadata": {
        "id": "qqrWdvOD0J4Y"
      },
      "source": [
        "X1 =[[1 ,1 ,1 ,1 ,1 ,1 ]]\n",
        "X2 =[[-1 ,-1 ,-1 ,-1 ,-1 ,-1 ]]\n",
        "X3 =[[1 ,-1, -1 ,1 ,1 ,1 ]]\n",
        "X4 =[[1 ,1 ,-1 ,-1 ,-1 ,-1 ]]\n",
        "\n",
        "Y1=[[1] ,[1] ,[1]]\n",
        "Y2=[[-1] ,[-1] ,[-1]]\n",
        "Y3=[[-1], [1], [1]]\n",
        "Y4=[[1],[-1],[1]]"
      ],
      "execution_count": null,
      "outputs": []
    },
    {
      "cell_type": "markdown",
      "metadata": {
        "id": "xsNTZ7Bmoyx-"
      },
      "source": [
        "##calculating weight matrix"
      ]
    },
    {
      "cell_type": "code",
      "metadata": {
        "colab": {
          "base_uri": "https://localhost:8080/"
        },
        "id": "yLGpik7e1cXT",
        "outputId": "266cec51-ad59-4db0-a965-479320367048"
      },
      "source": [
        "import numpy as np\n",
        "\n",
        "result1 = np.multiply(X1, Y1)\n",
        "result2 = np.multiply(X2, Y2)\n",
        "result3 = np.multiply(X3, Y3)\n",
        "result4 = np.multiply(X4, Y4)\n",
        "\n",
        "result = result1 + result2 + result3 + result4\n",
        "\n",
        "print(result)"
      ],
      "execution_count": null,
      "outputs": [
        {
          "output_type": "stream",
          "text": [
            "[[2 4 2 0 0 0]\n",
            " [2 0 2 4 4 4]\n",
            " [4 2 0 2 2 2]]\n"
          ],
          "name": "stdout"
        }
      ]
    },
    {
      "cell_type": "markdown",
      "metadata": {
        "id": "X08km8hK6-io"
      },
      "source": [
        "##BAM implimentation from scratch"
      ]
    },
    {
      "cell_type": "code",
      "metadata": {
        "colab": {
          "base_uri": "https://localhost:8080/"
        },
        "id": "7k4pguad6_oT",
        "outputId": "4194133d-0b07-401e-d2c2-ecac826317d4"
      },
      "source": [
        "import math\n",
        "\n",
        "def flatten(y):\n",
        "    res = []  \n",
        "    for ele in y:\n",
        "      #print(ele)\n",
        "      for ele2 in ele:\n",
        "        #print(ele2)\n",
        "        res.append(ele2)\n",
        "    return res\n",
        "\n",
        "sign = lambda x: math.copysign(1, x) \n",
        "\n",
        "def outer_layer_outputs(weights, train):\n",
        "    output = []\n",
        "    #print(np.shape(weights)[1])\n",
        "    #print(np.shape(weights)[0])\n",
        "    for i in range(np.shape(weights)[1]): \n",
        "        outputnow = 0\n",
        "        for j in range(np.shape(weights)[0]): \n",
        "            outputnow += weights[j][i] * train[j]\n",
        "        ##outputnow = activate(outputnow, index_activate)\\\n",
        "        outputnow = sign(outputnow)\n",
        "        output.append(outputnow)\n",
        "    return output\n",
        "\n",
        "\n",
        "\n",
        "def BAM (input, weights): \n",
        "    outs = outer_layer_outputs(weights.T, input)\n",
        "    return outs\n",
        "\n",
        "print('when input is =' + str(X1[0]) + ' out put is = ' +  str(BAM (X1[0], result )))\n",
        "print('when input is =' + str(X2[0]) + ' out put is = ' +  str(BAM (X2[0], result )))\n",
        "print('when input is =' + str(X3[0]) + ' out put is = ' +  str(BAM (X3[0], result )))\n",
        "print('when input is =' + str(X4[0]) + ' out put is = ' +  str(BAM (X4[0], result )))\n",
        "\n",
        "\n",
        "\n",
        "\n",
        "\n",
        "def RBAM (input, weights): \n",
        "    outs = outer_layer_outputs(weights, input)\n",
        "    return outs\n",
        "\n",
        "\n",
        "print('when input is =' + str(flatten(Y1)) + ' out put is = ' +  str(RBAM (flatten(Y1), result )))\n",
        "print('when input is =' + str(flatten(Y2)) + ' out put is = ' +  str(RBAM (flatten(Y2), result )))\n",
        "print('when input is =' + str(flatten(Y3)) + ' out put is = ' +  str(RBAM (flatten(Y3), result )))\n",
        "print('when input is =' + str(flatten(Y4)) + ' out put is = ' +  str(RBAM (flatten(Y4), result )))\n",
        "\n"
      ],
      "execution_count": null,
      "outputs": [
        {
          "output_type": "stream",
          "text": [
            "when input is =[1, 1, 1, 1, 1, 1] out put is = [1.0, 1.0, 1.0]\n",
            "when input is =[-1, -1, -1, -1, -1, -1] out put is = [-1.0, -1.0, -1.0]\n",
            "when input is =[1, -1, -1, 1, 1, 1] out put is = [-1.0, 1.0, 1.0]\n",
            "when input is =[1, 1, -1, -1, -1, -1] out put is = [1.0, -1.0, 1.0]\n",
            "when input is =[1, 1, 1] out put is = [1.0, 1.0, 1.0, 1.0, 1.0, 1.0]\n",
            "when input is =[-1, -1, -1] out put is = [-1.0, -1.0, -1.0, -1.0, -1.0, -1.0]\n",
            "when input is =[-1, 1, 1] out put is = [1.0, -1.0, 1.0, 1.0, 1.0, 1.0]\n",
            "when input is =[1, -1, 1] out put is = [1.0, 1.0, 1.0, -1.0, -1.0, -1.0]\n"
          ],
          "name": "stdout"
        }
      ]
    },
    {
      "cell_type": "markdown",
      "metadata": {
        "id": "cqUOHG6CnyMQ"
      },
      "source": [
        "#problem 2 - Kohenen Network Implimentation From Scratch"
      ]
    },
    {
      "cell_type": "markdown",
      "metadata": {
        "id": "UJlQbLUZquNs"
      },
      "source": [
        "##Initializing weights and inputs "
      ]
    },
    {
      "cell_type": "code",
      "metadata": {
        "colab": {
          "base_uri": "https://localhost:8080/",
          "height": 348
        },
        "id": "XTeRjdkotRYt",
        "outputId": "52e0e4ac-2152-4172-b60a-928c9c21f6f6"
      },
      "source": [
        "import numpy\n",
        "import random\n",
        "secure_random = random.SystemRandom()\n",
        "randomfloat = secure_random.uniform(-1,1)\n",
        "import matplotlib.pyplot as plt\n",
        "\n",
        "weights = numpy.empty((2, 100),dtype=object)\n",
        "\n",
        "for i in range(100):\n",
        "   weights[1][i] =  float(\"{0:.2f}\". format(secure_random.uniform(-1,1)))\n",
        "   weights[0][i] = float(\"{0:.2f}\". format(secure_random.uniform(-1,1)))\n",
        "   \n",
        "\n",
        "inputs = numpy.empty((2, 1500),dtype=object)\n",
        "\n",
        "for i in range(1500):\n",
        "    for j in range(2):\n",
        "        inputs[j][i] = secure_random.uniform(-1,1)\n",
        "        inputs[j][i] = float(\"{0:.2f}\". format(inputs[j][i]))\n",
        "print(inputs)\n",
        "\n",
        "plt.xlabel(\"W[0][x]\")\n",
        "plt.ylabel(\"W[1][y]\")\n",
        "plt.title(\"weights before training\")\n",
        "plt.scatter(weights[0], weights[1])\n",
        "\n",
        "#plt.scatter(range(100), outputvec(weights, 0.1, 0.8,3))\n",
        "\n",
        "\n"
      ],
      "execution_count": null,
      "outputs": [
        {
          "output_type": "stream",
          "text": [
            "[[-0.87 -0.6 0.73 ... 0.34 -0.36 0.91]\n",
            " [0.84 -0.32 0.74 ... 0.41 -0.43 0.66]]\n"
          ],
          "name": "stdout"
        },
        {
          "output_type": "execute_result",
          "data": {
            "text/plain": [
              "<matplotlib.collections.PathCollection at 0x7f7868c2f990>"
            ]
          },
          "metadata": {
            "tags": []
          },
          "execution_count": 59
        },
        {
          "output_type": "display_data",
          "data": {
            "image/png": "[encoded data removed]",
            "text/plain": [
              "<Figure size 432x288 with 1 Axes>"
            ]
          },
          "metadata": {
            "tags": [],
            "needs_background": "light"
          }
        }
      ]
    },
    {
      "cell_type": "markdown",
      "metadata": {
        "id": "8KI5PKZrwhS1"
      },
      "source": [
        "##  Kohonen network - Self organising "
      ]
    },
    {
      "cell_type": "code",
      "metadata": {
        "colab": {
          "base_uri": "https://localhost:8080/",
          "height": 882
        },
        "id": "I08xq2Twwhs1",
        "outputId": "a8d60721-cf88-45f1-a13e-c87ca3af2d76"
      },
      "source": [
        "import math \n",
        "\n",
        "\n",
        "def chickendinner( train_x, train_y, weights): \n",
        "    dist = []\n",
        "    for i in range(100): \n",
        "        distance = math.sqrt(pow(train_x- weights[0][i], 2) + pow(train_y- weights[1][i], 2))\n",
        "        dist.append(distance)\n",
        "    return dist.index(min(dist))\n",
        "\n",
        "def updateweights (winner, train_x, train_y, weights): \n",
        "    delta_x = 0.1* (train_x - weights[0][winner])\n",
        "    #print(delta_x)\n",
        "    delta_y = 0.1* (train_y - weights[1][winner])\n",
        "    weights[0][winner] +=  delta_x \n",
        "    weights[1][winner] +=  delta_y\n",
        "    weights[1][winner] = float(\"{0:.2f}\". format(weights[1][winner]))\n",
        "    weights[0][winner] = float(\"{0:.2f}\". format(weights[0][winner]))\n",
        "  \n",
        "  \n",
        "\n",
        "\n",
        "\n",
        "def weight_training(inputs, weighs): \n",
        "    for k in range(100): \n",
        "        for i in range(1500):\n",
        "            winner = chickendinner( inputs[0][i], inputs[1][i], weights)\n",
        "            #print(winner)\n",
        "            updateweights (winner,inputs[0][i], inputs[1][i], weights)\n",
        "\n",
        "print(weights)\n",
        "weight_training(inputs, weights)\n",
        "print(weights)\n",
        "\n",
        "\n",
        "plt.xlabel(\"W[0][x]\")\n",
        "plt.ylabel(\"W[1][y]\")\n",
        "plt.title(\"weights after 10000 iterations \")\n",
        "plt.scatter(weights[0], weights[1])\n",
        "\n",
        "\n"
      ],
      "execution_count": null,
      "outputs": [
        {
          "output_type": "stream",
          "text": [
            "[[0.99 0.13 -0.37 -0.71 0.33 0.97 0.59 0.57 0.05 0.21 -0.12 0.5 -0.58\n",
            "  -0.03 -0.59 -0.37 -0.16 -0.06 -0.17 0.22 0.84 -0.24 -0.53 0.74 0.33\n",
            "  -0.47 0.63 -0.63 -0.82 -0.11 -0.85 -0.2 0.51 0.11 -0.33 0.73 0.73 0.64\n",
            "  -0.92 0.53 0.27 0.37 0.84 -0.26 -0.03 -0.93 -0.9 -0.39 -0.38 -0.6 -0.4\n",
            "  0.53 0.1 0.91 0.94 0.19 -0.4 -0.68 -0.85 0.15 -0.95 0.81 0.23 0.85 0.56\n",
            "  -0.82 -0.12 -0.74 -0.25 0.28 0.05 -0.97 0.01 -0.75 0.62 -0.66 0.21\n",
            "  -0.89 -0.92 -0.11 0.91 -0.24 -0.18 0.88 0.8 -0.52 -0.8 -0.39 0.59 0.7\n",
            "  -0.09 0.85 0.38 0.73 -0.53 0.12 0.64 0.15 -0.39 0.02]\n",
            " [0.64 -0.53 0.42 0.77 -0.67 0.53 0.77 0.0 -0.72 0.01 -0.78 -0.51 0.43\n",
            "  0.48 -0.08 0.08 0.78 0.68 0.51 -0.54 -0.1 -0.15 -0.1 -0.07 0.51 0.93\n",
            "  -0.85 -0.26 0.65 -0.05 -0.92 -0.87 -0.38 -0.41 0.02 0.9 -0.54 -0.59\n",
            "  -0.37 0.97 -0.9 -0.48 0.26 0.09 -0.27 -0.05 0.52 -0.91 -0.94 0.21 -0.31\n",
            "  0.9 0.28 -0.53 -0.83 -0.51 -0.56 0.57 0.91 -0.68 -0.15 0.76 0.97 -0.44\n",
            "  0.04 -0.1 -0.01 -0.1 -0.64 -0.95 -0.07 0.44 -0.98 -0.51 0.73 -0.64 -1.0\n",
            "  -0.83 -0.16 0.37 -0.75 0.79 0.21 0.1 0.66 -0.33 0.37 -0.95 -0.28 -0.83\n",
            "  -0.61 -0.49 0.6 0.53 -0.08 -0.19 0.88 -0.46 0.27 -0.42]]\n",
            "[[0.93 0.06 -0.46 -0.62 0.33 0.92 0.54 0.51 -0.03 0.29 -0.18 0.45 -0.54\n",
            "  0.18 -0.59 -0.4 -0.21 0.01 -0.17 0.26 0.91 -0.29 -0.46 0.69 0.39 -0.46\n",
            "  0.68 -0.7 -0.83 -0.13 -0.89 -0.2 0.53 0.07 -0.31 0.76 0.61 0.64 -0.93\n",
            "  0.47 0.29 0.38 0.82 -0.28 0.0 -0.94 -0.85 -0.68 -0.41 -0.68 -0.4 0.29\n",
            "  0.14 0.94 0.89 0.18 -0.48 -0.66 -0.85 0.15 -0.84 0.84 0.11 0.9 0.53\n",
            "  -0.79 -0.08 -0.7 -0.28 0.46 0.09 -0.94 -0.03 -0.86 0.65 -0.67 0.18\n",
            "  -0.91 -0.93 -0.06 0.93 -0.25 -0.26 0.88 0.79 -0.56 -0.8 -0.38 0.69 0.76\n",
            "  -0.08 0.85 0.29 0.66 -0.58 0.29 0.61 0.21 -0.42 -0.13]\n",
            " [0.62 -0.56 0.58 0.83 -0.71 0.42 0.76 0.04 -0.71 0.04 -0.77 -0.57 0.4\n",
            "  0.47 -0.11 0.09 0.72 0.7 0.54 -0.51 -0.09 -0.21 -0.13 -0.11 0.46 0.83\n",
            "  -0.93 -0.4 0.72 -0.07 -0.95 -0.94 -0.21 -0.43 -0.07 0.94 -0.46 -0.64\n",
            "  -0.32 0.91 -0.89 -0.4 0.28 0.18 -0.26 0.05 0.58 -0.91 -0.78 0.26 -0.39\n",
            "  0.91 0.18 -0.56 -0.86 -0.54 -0.57 0.61 0.92 -0.7 -0.08 0.81 0.92 -0.34\n",
            "  0.28 0.05 0.14 -0.18 -0.56 -0.89 -0.02 0.39 -0.92 -0.6 0.68 -0.66 -0.93\n",
            "  -0.72 -0.21 0.35 -0.73 0.91 0.35 0.12 0.57 -0.31 0.31 -0.93 -0.28 -0.76\n",
            "  -0.54 -0.59 0.71 0.47 0.08 -0.23 0.93 -0.4 0.24 -0.34]]\n"
          ],
          "name": "stdout"
        },
        {
          "output_type": "execute_result",
          "data": {
            "text/plain": [
              "<matplotlib.collections.PathCollection at 0x7f7868b9a050>"
            ]
          },
          "metadata": {
            "tags": []
          },
          "execution_count": 60
        },
        {
          "output_type": "display_data",
          "data": {
            "image/png": "[encoded data removed]",
            "text/plain": [
              "<Figure size 432x288 with 1 Axes>"
            ]
          },
          "metadata": {
            "tags": [],
            "needs_background": "light"
          }
        }
      ]
    },
    {
      "cell_type": "markdown",
      "metadata": {
        "id": "d7Lo6t_ytM5x"
      },
      "source": [
        "##Graph"
      ]
    },
    {
      "cell_type": "code",
      "metadata": {
        "id": "6bJZe__vtPI-"
      },
      "source": [
        "def activate(activation, i):\n",
        "  if i == 1:\n",
        "      if (activation > 10): \n",
        "          return 1\n",
        "      elif (activation < -10): \n",
        "          return 0\n",
        "      else:\n",
        "          return 1.0 / (1.0 + math.exp(-activation))\n",
        "  elif i ==0:\n",
        "      if activation >= 0:\n",
        "          return activation \n",
        "      else: \n",
        "          return 0\n",
        "  elif i == 2: \n",
        "      return math.tanh(activation)\n",
        "  elif i == 3: \n",
        "      if activation >= 0:\n",
        "          return activation\n",
        "      else: \n",
        "          return 0.01 * activation \n",
        "\n",
        "\n",
        "\n",
        "def outputvec (weights, testx, testy, index_activation): \n",
        "    vec = []\n",
        "    for i in range(100): \n",
        "        ele = testx * weights[0][i] + testy * weights[1][i]\n",
        "        ele = activate(ele, index_activation)\n",
        "        vec.append(ele)\n",
        "    return vec\n",
        "\n",
        "\n",
        "\n"
      ],
      "execution_count": null,
      "outputs": []
    },
    {
      "cell_type": "markdown",
      "metadata": {
        "id": "-8mrI0CSUM4R"
      },
      "source": [
        "##output for weight input X = [0.1, 0.8]"
      ]
    },
    {
      "cell_type": "code",
      "metadata": {
        "colab": {
          "base_uri": "https://localhost:8080/",
          "height": 313
        },
        "id": "4dPwr4SHUN3X",
        "outputId": "88c7c3bd-a046-44bf-f24a-ff2800134244"
      },
      "source": [
        "plt.xlabel(\"neurons\")\n",
        "plt.ylabel(\"outputs\")\n",
        "plt.title(\"test data vs neutons activation after weight training\")\n",
        "plt.scatter(range(100), outputvec (weights, 0.1, 0.8, 3))"
      ],
      "execution_count": null,
      "outputs": [
        {
          "output_type": "execute_result",
          "data": {
            "text/plain": [
              "<matplotlib.collections.PathCollection at 0x7f7868ad1cd0>"
            ]
          },
          "metadata": {
            "tags": []
          },
          "execution_count": 62
        },
        {
          "output_type": "display_data",
          "data": {
            "image/png": "[encoded data removed]",
            "text/plain": [
              "<Figure size 432x288 with 1 Axes>"
            ]
          },
          "metadata": {
            "tags": [],
            "needs_background": "light"
          }
        }
      ]
    },
    {
      "cell_type": "markdown",
      "metadata": {
        "id": "5RIB5tS4UObl"
      },
      "source": [
        "##output for weight input X = [0.5, -0.2]"
      ]
    },
    {
      "cell_type": "code",
      "metadata": {
        "colab": {
          "base_uri": "https://localhost:8080/",
          "height": 313
        },
        "id": "kG01kFNlUO07",
        "outputId": "401b7c90-4c50-411a-dac3-7ee72992be5b"
      },
      "source": [
        "plt.xlabel(\"neurons\")\n",
        "plt.ylabel(\"outputs\")\n",
        "plt.title(\"test data vs neutons activation after weight training\")\n",
        "plt.scatter(range(100), outputvec (weights, 0.5, -0.2, 3))"
      ],
      "execution_count": null,
      "outputs": [
        {
          "output_type": "execute_result",
          "data": {
            "text/plain": [
              "<matplotlib.collections.PathCollection at 0x7f7868b62490>"
            ]
          },
          "metadata": {
            "tags": []
          },
          "execution_count": 63
        },
        {
          "output_type": "display_data",
          "data": {
            "image/png": "[encoded data removed]",
            "text/plain": [
              "<Figure size 432x288 with 1 Axes>"
            ]
          },
          "metadata": {
            "tags": [],
            "needs_background": "light"
          }
        }
      ]
    },
    {
      "cell_type": "markdown",
      "metadata": {
        "id": "gJVRvbwJUPZR"
      },
      "source": [
        "##output for weight input X = [-0.8, -0.9]"
      ]
    },
    {
      "cell_type": "code",
      "metadata": {
        "colab": {
          "base_uri": "https://localhost:8080/",
          "height": 313
        },
        "id": "S3GfM9WDUP0O",
        "outputId": "c47d081e-2084-43b7-e08a-d0d3199eff2c"
      },
      "source": [
        "plt.xlabel(\"neurons\")\n",
        "plt.ylabel(\"outputs\")\n",
        "plt.title(\"test data vs neutons activation after weight training\")\n",
        "plt.scatter(range(100), outputvec (weights, -0.8, -0.9, 3))"
      ],
      "execution_count": null,
      "outputs": [
        {
          "output_type": "execute_result",
          "data": {
            "text/plain": [
              "<matplotlib.collections.PathCollection at 0x7f7868a67710>"
            ]
          },
          "metadata": {
            "tags": []
          },
          "execution_count": 64
        },
        {
          "output_type": "display_data",
          "data": {
            "image/png": "[encoded data removed]",
            "text/plain": [
              "<Figure size 432x288 with 1 Axes>"
            ]
          },
          "metadata": {
            "tags": [],
            "needs_background": "light"
          }
        }
      ]
    },
    {
      "cell_type": "markdown",
      "metadata": {
        "id": "ml1AGdblVD6j"
      },
      "source": [
        "##output for weight input X = [-0.06, 0.9]"
      ]
    },
    {
      "cell_type": "code",
      "metadata": {
        "colab": {
          "base_uri": "https://localhost:8080/",
          "height": 313
        },
        "id": "A5b87i9fVERq",
        "outputId": "9dcc2cc3-a9eb-4df2-d1a6-0c947802583b"
      },
      "source": [
        "plt.xlabel(\"neurons\")\n",
        "plt.ylabel(\"outputs\")\n",
        "plt.title(\"test data vs neutons activation after weight training\")\n",
        "plt.scatter(range(100), outputvec (weights, -0.8, -0.9, 3))"
      ],
      "execution_count": null,
      "outputs": [
        {
          "output_type": "execute_result",
          "data": {
            "text/plain": [
              "<matplotlib.collections.PathCollection at 0x7f78689cb990>"
            ]
          },
          "metadata": {
            "tags": []
          },
          "execution_count": 65
        },
        {
          "output_type": "display_data",
          "data": {
            "image/png": "[encoded data removed]",
            "text/plain": [
              "<Figure size 432x288 with 1 Axes>"
            ]
          },
          "metadata": {
            "tags": [],
            "needs_background": "light"
          }
        }
      ]
    }
  ]
}